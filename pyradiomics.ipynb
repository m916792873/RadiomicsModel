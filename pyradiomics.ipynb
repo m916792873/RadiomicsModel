{
 "cells": [
  {
   "cell_type": "code",
   "execution_count": 1,
   "metadata": {},
   "outputs": [],
   "source": [
    "# import libraries \n",
    "\n",
    "import numpy as np\n",
    "import matplotlib.cm as cm\n",
    "import matplotlib.pyplot as plt\n",
    "import SimpleITK as sitk\n",
    "import radiomics \n",
    "from radiomics import featureextractor,imageoperations\n",
    "import six,numpy as np\n",
    "import os\n",
    "import csv"
   ]
  },
  {
   "cell_type": "code",
   "execution_count": 2,
   "metadata": {},
   "outputs": [],
   "source": [
    "# settings\n",
    "\n",
    "settings = {}\n",
    "settings['correctMask'] = True\n",
    "settings['geometryTolerance'] = 1.000000e-06\n",
    "params = os.path.join(os.getcwd(), '..', 'examples', 'exampleSettings', 'Params.yaml')"
   ]
  },
  {
   "cell_type": "code",
   "execution_count": 10,
   "metadata": {},
   "outputs": [
    {
     "data": {
      "text/plain": [
       "'/Users/hwang/Documents/pyradiomics-master/examples/exampleSettings/Params.yaml'"
      ]
     },
     "execution_count": 10,
     "metadata": {},
     "output_type": "execute_result"
    }
   ],
   "source": [
    "os.path.abspath(params)"
   ]
  },
  {
   "cell_type": "code",
   "execution_count": null,
   "metadata": {},
   "outputs": [],
   "source": [
    "# image\n",
    "\n",
    "imgpath = '/Users/hwang/Documents/research/1_MM/Data/2_benign_MM/T1_norm_niigz/'\n",
    "imgfile = os.listdir(imgpath)\n",
    "imgfile.sort()\n",
    "num_img = len(imgfile)\n",
    "for item_img in os.listdir(imgpath):\n",
    "    current_img = os.path.basename(item_img)\n",
    "    if current_img == '.DS_Store':\n",
    "        fullpath = os.path.join(imgpath,current_img)\n",
    "        os.remove(fullpath)\n",
    "                    \n",
    "# mask\n",
    "            \n",
    "maskpath = '/Users/hwang/Documents/research/1_MM/Data/2_benign_MM/T1_norm_niigz/'\n",
    "maskfile = os.listdir(maskpath)\n",
    "maskfile.sort()\n",
    "num_mask = len(maskfile)\n",
    "count_mask = 0\n",
    "for item_mask in os.listdir(maskpath):\n",
    "    current_mask = os.path.basename(item_mask)\n",
    "    if current_mask == '.DS_Store':\n",
    "        fullpath = os.path.join(maskpath,current_mask)\n",
    "        os.remove(fullpath)    "
   ]
  },
  {
   "cell_type": "code",
   "execution_count": null,
   "metadata": {},
   "outputs": [],
   "source": [
    "# when error occurs: Bounding box of ROI is larger than image space\n",
    "\n",
    "num = 0\n",
    "for item_mask in os.listdir(maskpath):\n",
    "\n",
    "    i = sitk.ReadImage(os.path.join(imgpath,imgfile[num]))\n",
    "    j = sitk.ReadImage(os.path.join(maskpath,maskfile[num]))\n",
    "\n",
    "    j.SetDirection(i.GetDirection())\n",
    "    j.SetOrigin(i.GetOrigin())\n",
    "    j.SetSpacing(i.GetSpacing())\n",
    "\n",
    "    sitk.WriteImage(j,os.path.join(maskpath,maskfile[num]),True)\n",
    "    num = num + 1"
   ]
  },
  {
   "cell_type": "code",
   "execution_count": null,
   "metadata": {},
   "outputs": [],
   "source": [
    "# extract radiomic features and store them to a csv file \n",
    "\n",
    "num = 0  \n",
    "img = sitk.ReadImage(os.path.join(imgpath,imgfile[num]))\n",
    "# img = sitk.Cast(img, sitk.sitkUInt16)\n",
    "mask = sitk.ReadImage(os.path.join(maskpath,maskfile[num]))\n",
    "mask = sitk.Cast(mask, sitk.sitkUInt16)\n",
    "boundingBox, correctedMask = imageoperations.checkMask(img,mask,**settings)\n",
    "extractor = featureextractor.RadiomicsFeatureExtractor(params)\n",
    "result = extractor.execute(img,mask)\n",
    "with open('/Users/hwang/Documents/research/1_MM/pyradiomics/radiomics_T1norm_ISS.csv', 'w') as file: \n",
    "    w = csv.DictWriter(file, result.keys())\n",
    "    w.writeheader()\n",
    "    w.writerow(result)\n",
    "    num = num + 1\n",
    "\n",
    "for item_mask in os.listdir(maskpath):\n",
    "    img = sitk.ReadImage(os.path.join(imgpath,imgfile[num]))\n",
    "    # img = sitk.Cast(img, sitk.sitkUInt16)\n",
    "    mask = sitk.ReadImage(os.path.join(maskpath,maskfile[num]))\n",
    "    mask = sitk.Cast(mask, sitk.sitkUInt16)\n",
    "    boundingBox, correctedMask = imageoperations.checkMask(img,mask,**settings)\n",
    "    extractor = featureextractor.RadiomicsFeatureExtractor(params)\n",
    "    result = extractor.execute(img,mask)\n",
    "    with open('//Users/hwang/Documents/research/1_MM/pyradiomics/radiomics_T1norm_ISS.csv', 'a') as file: \n",
    "        w = csv.DictWriter(file, result.keys())\n",
    "        w.writerow(result)\n",
    "        num = num + 1\n",
    "        if num > len(maskfile)-1:\n",
    "            break"
   ]
  },
  {
   "cell_type": "code",
   "execution_count": null,
   "metadata": {},
   "outputs": [],
   "source": [
    "# image and mask display\n",
    "\n",
    "i = sitk.ReadImage(os.path.join(imgpath,imgfile[num]))\n",
    "plt.figure(figsize=(20,20))\n",
    "plt.subplot(2,2,1)\n",
    "plt.imshow(sitk.GetArrayFromImage(i)[9,:,:], cmap=\"gray\")\n",
    "plt.show()\n",
    "\n",
    "j = sitk.ReadImage(os.path.join(maskpath,maskfile[num]))\n",
    "plt.figure(figsize=(20,20))\n",
    "plt.subplot(2,2,2)\n",
    "plt.imshow(sitk.GetArrayFromImage(j)[9,:,:], cmap = \"gray\")\n",
    "plt.show()"
   ]
  }
 ],
 "metadata": {
  "kernelspec": {
   "display_name": "Python 3",
   "language": "python",
   "name": "python3"
  },
  "language_info": {
   "codemirror_mode": {
    "name": "ipython",
    "version": 3
   },
   "file_extension": ".py",
   "mimetype": "text/x-python",
   "name": "python",
   "nbconvert_exporter": "python",
   "pygments_lexer": "ipython3",
   "version": "3.7.4"
  }
 },
 "nbformat": 4,
 "nbformat_minor": 4
}
